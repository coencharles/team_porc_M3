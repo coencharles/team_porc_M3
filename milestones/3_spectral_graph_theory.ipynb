{
 "cells": [
  {
   "cell_type": "markdown",
   "metadata": {},
   "source": [
    "# [NTDS'18] milestone 3: spectral graph theory\n",
    "[ntds'18]: https://github.com/mdeff/ntds_2018\n",
    "\n",
    "[Michaël Defferrard](http://deff.ch), [EPFL LTS2](https://lts2.epfl.ch)"
   ]
  },
  {
   "cell_type": "markdown",
   "metadata": {},
   "source": [
    "## Students\n",
    "\n",
    "* Team: `<34>`\n",
    "* Students: `<Valentin Morel, Xavier Sieber, Cédric Schumacher, Charles-Théophile Coen>`\n",
    "* Dataset: `<Terrorist attack>`"
   ]
  },
  {
   "cell_type": "markdown",
   "metadata": {},
   "source": [
    "## Rules\n",
    "\n",
    "* Milestones have to be completed by teams. No collaboration between teams is allowed.\n",
    "* Textual answers shall be short. Typically one to two sentences.\n",
    "* Code has to be clean.\n",
    "* You cannot import any other library than we imported.\n",
    "* When submitting, the notebook is executed and the results are stored. I.e., if you open the notebook again it should show numerical results and plots. We won't be able to execute your notebooks.\n",
    "* The notebook is re-executed from a blank state before submission. That is to be sure it is reproducible. You can click \"Kernel\" then \"Restart & Run All\" in Jupyter."
   ]
  },
  {
   "cell_type": "markdown",
   "metadata": {},
   "source": [
    "## Objective\n",
    "\n",
    "The goal of this milestone is to get familiar with the graph Laplacian and its spectral decomposition."
   ]
  },
  {
   "cell_type": "markdown",
   "metadata": {},
   "source": [
    "## 0 Load your network"
   ]
  },
  {
   "cell_type": "code",
   "execution_count": 1,
   "metadata": {},
   "outputs": [],
   "source": [
    "%matplotlib inline"
   ]
  },
  {
   "cell_type": "markdown",
   "metadata": {},
   "source": [
    "If you get a `No module named 'sklearn'` error when running the below cell, install [scikit-learn](https://scikit-learn.org) with `conda install scikit-learn` (after activating the `ntds_2018` environment)."
   ]
  },
  {
   "cell_type": "code",
   "execution_count": 2,
   "metadata": {},
   "outputs": [],
   "source": [
    "import numpy as np\n",
    "from scipy import sparse\n",
    "import scipy.sparse.linalg\n",
    "import matplotlib.pyplot as plt\n",
    "from sklearn.cluster import KMeans"
   ]
  },
  {
   "cell_type": "markdown",
   "metadata": {},
   "source": [
    "Let's denote your graph as $\\mathcal{G} = (\\mathcal{V}, \\mathcal{E}, A)$, where $\\mathcal{V}$ is the set of nodes, $\\mathcal{E}$ is the set of edges, $A \\in \\mathbb{R}^{N \\times N}$ is the (weighted) adjacency matrix, and $N = |\\mathcal{V}|$ is the number of nodes.\n",
    "\n",
    "Import the adjacency matrix $A$ that you constructed in the first milestone.\n",
    "(You're allowed to update it between milestones if you want to.)"
   ]
  },
  {
   "cell_type": "code",
   "execution_count": 3,
   "metadata": {},
   "outputs": [],
   "source": [
    "adjacency = np.load('Adjacency1.npy') # Your code here.\n",
    "\n",
    "# Suppression of the nodes with 0 degree (otherwise problem when computing the normalized Laplacian)\n",
    "degree = adjacency.sum(axis=0)\n",
    "list_to_delete = []; # This array is going to contain all the index of the nodes with degree 0\n",
    "\n",
    "for i in range(0,len(adjacency)):\n",
    "    degree_node_i = degree.item(i)\n",
    "    \n",
    "    if degree_node_i == 0:\n",
    "        list_to_delete.append(i)\n",
    "        \n",
    "list_to_delete = np.array(list_to_delete)\n",
    "\n",
    "for j in range(0,len(list_to_delete)): \n",
    "    index = list_to_delete[j]\n",
    "    adjacency = np.delete(adjacency, index, axis=0)\n",
    "    adjacency = np.delete(adjacency, index, axis=1)\n",
    "    list_to_delete = list_to_delete - 1 \n",
    "\n",
    "degree = adjacency.sum(axis=0)\n",
    "n_nodes = len(adjacency) # Your code here."
   ]
  },
  {
   "cell_type": "markdown",
   "metadata": {},
   "source": [
    "## 1 Graph Laplacian"
   ]
  },
  {
   "cell_type": "markdown",
   "metadata": {},
   "source": [
    "### Question 1\n",
    "\n",
    "From the (weighted) adjacency matrix $A$, compute both the combinatorial (also called unnormalized) and the normalized graph Laplacian matrices.\n",
    "\n",
    "Note: if your graph is weighted, use the weighted adjacency matrix. If not, use the binary adjacency matrix.\n",
    "\n",
    "For efficient storage and computation, store these sparse matrices in a [compressed sparse row (CSR) format](https://en.wikipedia.org/wiki/Sparse_matrix#Compressed_sparse_row_.28CSR.2C_CRS_or_Yale_format.29)."
   ]
  },
  {
   "cell_type": "code",
   "execution_count": 4,
   "metadata": {},
   "outputs": [],
   "source": [
    "D = np.diagflat(degree)\n",
    "D2 = np.diagflat(1/np.sqrt(degree))\n",
    "\n",
    "laplacian_combinatorial = D - adjacency # Your code here.\n",
    "laplacian_normalized =  D2.dot(laplacian_combinatorial.dot(D2)) # Your code here."
   ]
  },
  {
   "cell_type": "code",
   "execution_count": 5,
   "metadata": {},
   "outputs": [
    {
     "name": "stderr",
     "output_type": "stream",
     "text": [
      "C:\\Users\\valmo\\Anaconda3\\envs\\ntds_2018\\lib\\site-packages\\ipykernel_launcher.py:1: RuntimeWarning: invalid value encountered in log\n",
      "  \"\"\"Entry point for launching an IPython kernel.\n"
     ]
    },
    {
     "data": {
      "text/plain": [
       "<matplotlib.colorbar.Colorbar at 0x20347102908>"
      ]
     },
     "execution_count": 5,
     "metadata": {},
     "output_type": "execute_result"
    },
    {
     "data": {
      "image/png": "[encoded data removed]",
      "text/plain": [
       "<Figure size 432x288 with 2 Axes>"
      ]
     },
     "metadata": {
      "needs_background": "light"
     },
     "output_type": "display_data"
    }
   ],
   "source": [
    "plt.imshow(np.log(laplacian_combinatorial + 1e-1))\n",
    "plt.colorbar()"
   ]
  },
  {
   "cell_type": "markdown",
   "metadata": {},
   "source": [
    "Use one of them as the graph Laplacian $L$ for the rest of the milestone.\n",
    "We however encourage you to run the code with both to get a sense of the difference!"
   ]
  },
  {
   "cell_type": "code",
   "execution_count": null,
   "metadata": {},
   "outputs": [],
   "source": [
    "laplacian =  # Either laplacian_combinatorial or laplacian_normalized."
   ]
  },
  {
   "cell_type": "markdown",
   "metadata": {},
   "source": [
    "### Question 2\n",
    "\n",
    "Compute the eigendecomposition of the Laplacian $L = U^\\top \\Lambda U$, where the columns $u_k \\in \\mathbb{R}^N$ of $U = [u_1, \\dots, u_N] \\in \\mathbb{R}^{N \\times N}$ are the eigenvectors and the diagonal elements $\\lambda_k = \\Lambda_{kk}$ are the corresponding eigenvalues.\n",
    "\n",
    "Make sure that the eigenvalues are ordered, i.e., $0 = \\lambda_1 \\leq \\lambda_2 \\leq \\dots \\leq \\lambda_N$."
   ]
  },
  {
   "cell_type": "code",
   "execution_count": 26,
   "metadata": {},
   "outputs": [
    {
     "name": "stdout",
     "output_type": "stream",
     "text": [
      "[[1 2 3]\n",
      " [4 5 6]\n",
      " [7 8 9]]\n",
      "eignevectors:  [[-0.23197069  0.40824829 -0.78583024]\n",
      " [-0.52532209 -0.81649658 -0.08675134]\n",
      " [-0.8186735   0.40824829  0.61232756]]\n",
      "eigenvalues:  [ 1.61168440e+01 -9.75918483e-16 -1.11684397e+00]\n",
      "(3, 3)\n"
     ]
    }
   ],
   "source": [
    "A = np.array([[1, 2, 3], [4, 5, 6], [7, 8, 9]])\n",
    "print(A)\n",
    "\n",
    "# calculate eigendecomposition\n",
    "values, vectors = np.linalg.eig(A)\n",
    "\n",
    "idx = values.argsort()[::-1]\n",
    "#Order eigenvalues\n",
    "#values.sort()\n",
    "\n",
    "eigenvectors = vectors[:,idx] # Your code here.\n",
    "eigenvalues = values[idx] # Your code here.\n",
    "\n",
    "print('eignevectors: ',eigenvectors)\n",
    "print('eigenvalues: ',eigenvalues)\n",
    "\n",
    "print(eigenvectors.shape)\n",
    "#assert eigenvectors.shape == (n_nodes, n_nodes)"
   ]
  },
  {
   "cell_type": "code",
   "execution_count": 62,
   "metadata": {},
   "outputs": [
    {
     "name": "stdout",
     "output_type": "stream",
     "text": [
      "eignevectors:  [[ 8.94427191e-01+0.j  4.47213595e-01+0.j  0.00000000e+00+0.j ...\n",
      "  -1.86183701e-21+0.j -7.15432032e-21+0.j  8.69784136e-22+0.j]\n",
      " [ 0.00000000e+00+0.j  0.00000000e+00+0.j  0.00000000e+00+0.j ...\n",
      "   1.95762177e-17+0.j  2.82591644e-16+0.j  5.62517452e-18+0.j]\n",
      " [ 0.00000000e+00+0.j  0.00000000e+00+0.j  8.94427191e-01+0.j ...\n",
      "   1.40363801e-22+0.j  8.97004693e-22+0.j -6.81162852e-23+0.j]\n",
      " ...\n",
      " [ 0.00000000e+00+0.j  0.00000000e+00+0.j  0.00000000e+00+0.j ...\n",
      "   7.76085082e-17+0.j -8.07507899e-17+0.j -3.24850511e-17+0.j]\n",
      " [ 0.00000000e+00+0.j  0.00000000e+00+0.j  0.00000000e+00+0.j ...\n",
      "  -2.79546679e-01+0.j -3.88067112e-02+0.j  6.03102165e-03+0.j]\n",
      " [ 0.00000000e+00+0.j  0.00000000e+00+0.j  0.00000000e+00+0.j ...\n",
      "  -3.31866285e-17+0.j  7.03578994e-17+0.j  1.39003360e-17+0.j]]\n",
      "eigenvalues:  [-1.39097547e-14+0.00000000e+00j -1.38659228e-14+0.00000000e+00j\n",
      " -1.23391852e-14+0.00000000e+00j -1.18401993e-14+0.00000000e+00j\n",
      " -1.04960330e-14-1.04337351e-15j -1.04960330e-14+1.04337351e-15j\n",
      " -1.03962135e-14+0.00000000e+00j -8.16622729e-15+0.00000000e+00j\n",
      " -6.99354086e-15-4.02236915e-16j -6.99354086e-15+4.02236915e-16j\n",
      " -6.85889310e-15-2.02400467e-15j -6.85889310e-15+2.02400467e-15j\n",
      " -5.90122546e-15-4.54798420e-16j -5.90122546e-15+4.54798420e-16j\n",
      " -5.29346782e-15-1.37805809e-15j -5.29346782e-15+1.37805809e-15j\n",
      " -5.28044099e-15-7.63904128e-15j -5.28044099e-15+7.63904128e-15j\n",
      " -4.44428410e-15+0.00000000e+00j -4.36287948e-15-1.74158408e-15j\n",
      " -4.36287948e-15+1.74158408e-15j -4.29191367e-15+0.00000000e+00j\n",
      " -3.97473175e-15-2.29815462e-15j -3.97473175e-15+2.29815462e-15j\n",
      " -3.87588153e-15-3.86132862e-15j -3.87588153e-15+3.86132862e-15j\n",
      " -3.39907496e-15-1.70474936e-15j -3.39907496e-15+1.70474936e-15j\n",
      " -3.38864471e-15-2.04652106e-15j -3.38864471e-15+2.04652106e-15j\n",
      " -3.01194913e-15-4.10019846e-15j -3.01194913e-15+4.10019846e-15j\n",
      " -2.38175110e-15-2.04067955e-16j -2.38175110e-15+2.04067955e-16j\n",
      " -2.37463481e-15+0.00000000e+00j -1.96625370e-15+0.00000000e+00j\n",
      " -1.91624826e-15-2.58678162e-15j -1.91624826e-15+2.58678162e-15j\n",
      " -1.40084832e-15-5.81496668e-17j -1.40084832e-15+5.81496668e-17j\n",
      " -1.34844139e-15-1.35259552e-15j -1.34844139e-15+1.35259552e-15j\n",
      " -1.10645739e-15-3.21768157e-15j -1.10645739e-15+3.21768157e-15j\n",
      " -1.06456151e-15-1.64202665e-15j -1.06456151e-15+1.64202665e-15j\n",
      " -1.00157163e-15-2.40527170e-15j -1.00157163e-15+2.40527170e-15j\n",
      " -9.40347801e-16-4.28818453e-15j -9.40347801e-16+4.28818453e-15j\n",
      " -8.11276604e-16-1.62874720e-16j -8.11276604e-16+1.62874720e-16j\n",
      " -5.28843170e-16+0.00000000e+00j -4.25122394e-16-7.13361221e-16j\n",
      " -4.25122394e-16+7.13361221e-16j -4.06261524e-16-1.04124386e-15j\n",
      " -4.06261524e-16+1.04124386e-15j -3.56959904e-16+0.00000000e+00j\n",
      " -3.26853513e-16-2.14248834e-16j -3.26853513e-16+2.14248834e-16j\n",
      " -2.85428307e-16-5.66379403e-16j -2.85428307e-16+5.66379403e-16j\n",
      " -2.03938073e-16-2.90808259e-16j -2.03938073e-16+2.90808259e-16j\n",
      " -1.66846124e-16-6.95702067e-17j -1.66846124e-16+6.95702067e-17j\n",
      " -1.66592218e-16-5.22445980e-15j -1.66592218e-16+5.22445980e-15j\n",
      " -5.78428241e-17-2.43721529e-15j -5.78428241e-17+2.43721529e-15j\n",
      " -1.27809246e-17-3.17556404e-16j -1.27809246e-17+3.17556404e-16j\n",
      " -4.15087449e-18-1.83544651e-16j -4.15087449e-18+1.83544651e-16j\n",
      "  0.00000000e+00+0.00000000e+00j  0.00000000e+00+0.00000000e+00j\n",
      "  0.00000000e+00+0.00000000e+00j  0.00000000e+00+0.00000000e+00j\n",
      "  1.55370093e-19-3.50697858e-19j  1.55370093e-19+3.50697858e-19j\n",
      "  7.27711220e-17-1.59439417e-15j  7.27711220e-17+1.59439417e-15j\n",
      "  8.59114605e-17+0.00000000e+00j  1.24813920e-16+0.00000000e+00j\n",
      "  1.42756440e-16-1.32548079e-16j  1.42756440e-16+1.32548079e-16j\n",
      "  2.14882282e-16+0.00000000e+00j  2.32445750e-16-2.25885104e-16j\n",
      "  2.32445750e-16+2.25885104e-16j  5.27564236e-16-4.17952499e-16j\n",
      "  5.27564236e-16+4.17952499e-16j  5.29555005e-16-1.22661043e-16j\n",
      "  5.29555005e-16+1.22661043e-16j  6.25682678e-16-6.10590200e-16j\n",
      "  6.25682678e-16+6.10590200e-16j  8.21744085e-16-4.32671184e-15j\n",
      "  8.21744085e-16+4.32671184e-15j  9.94893078e-16-9.37768362e-16j\n",
      "  9.94893078e-16+9.37768362e-16j  1.10922141e-15-1.26409067e-15j\n",
      "  1.10922141e-15+1.26409067e-15j  1.19350283e-15-1.99682733e-15j\n",
      "  1.19350283e-15+1.99682733e-15j  1.35494822e-15-4.26739799e-15j\n",
      "  1.35494822e-15+4.26739799e-15j  1.46883608e-15-1.27459495e-16j\n",
      "  1.46883608e-15+1.27459495e-16j  1.72494910e-15+0.00000000e+00j\n",
      "  1.75185187e-15-1.31333598e-15j  1.75185187e-15+1.31333598e-15j\n",
      "  2.47979045e-15+0.00000000e+00j  2.49732464e-15-2.38045555e-15j\n",
      "  2.49732464e-15+2.38045555e-15j  2.93307415e-15-3.16887806e-15j\n",
      "  2.93307415e-15+3.16887806e-15j  2.94169516e-15-4.19758068e-15j\n",
      "  2.94169516e-15+4.19758068e-15j  3.14391222e-15-8.24031067e-16j\n",
      "  3.14391222e-15+8.24031067e-16j  3.32524895e-15+0.00000000e+00j\n",
      "  3.50198009e-15+0.00000000e+00j  4.31932734e-15-9.06074618e-16j\n",
      "  4.31932734e-15+9.06074618e-16j  4.43099426e-15-3.00597389e-15j\n",
      "  4.43099426e-15+3.00597389e-15j  4.50292765e-15+0.00000000e+00j\n",
      "  4.54226180e-15-4.42723948e-15j  4.54226180e-15+4.42723948e-15j\n",
      "  5.36924317e-15+0.00000000e+00j  5.81811806e-15-1.81975181e-15j\n",
      "  5.81811806e-15+1.81975181e-15j  5.94686439e-15-5.29098005e-16j\n",
      "  5.94686439e-15+5.29098005e-16j  7.62697131e-15+0.00000000e+00j\n",
      "  8.12699482e-15+0.00000000e+00j  1.07559520e-14+0.00000000e+00j\n",
      "  1.08946931e-14+0.00000000e+00j  1.46679292e-14+0.00000000e+00j\n",
      "  2.09603282e-14+0.00000000e+00j  3.91017421e-01+0.00000000e+00j\n",
      "  4.65929803e-01+0.00000000e+00j  1.00000000e+00+0.00000000e+00j\n",
      "  1.00000000e+00+0.00000000e+00j  1.00000000e+00+0.00000000e+00j\n",
      "  1.00000000e+00+0.00000000e+00j  1.00000000e+00+0.00000000e+00j\n",
      "  1.00000000e+00+0.00000000e+00j  1.00000000e+00+0.00000000e+00j\n",
      "  1.00000000e+00+0.00000000e+00j  2.00000000e+00+0.00000000e+00j\n",
      "  2.00000000e+00+0.00000000e+00j  2.00000000e+00+0.00000000e+00j\n",
      "  2.00000000e+00+0.00000000e+00j  2.00000000e+00+0.00000000e+00j\n",
      "  2.00000000e+00+0.00000000e+00j  2.00000000e+00+0.00000000e+00j\n",
      "  2.00000000e+00+0.00000000e+00j  2.00000000e+00+0.00000000e+00j\n",
      "  2.00000000e+00+0.00000000e+00j  2.00000000e+00+0.00000000e+00j\n",
      "  2.00000000e+00+0.00000000e+00j  2.00000000e+00+0.00000000e+00j\n",
      "  2.00000000e+00+0.00000000e+00j  2.00000000e+00+0.00000000e+00j\n",
      "  2.00000000e+00+0.00000000e+00j  2.00000000e+00+0.00000000e+00j\n",
      "  2.00000000e+00+0.00000000e+00j  2.00000000e+00+0.00000000e+00j\n",
      "  2.00000000e+00+0.00000000e+00j  2.00000000e+00+0.00000000e+00j\n",
      "  2.00000000e+00+0.00000000e+00j  2.00000000e+00+0.00000000e+00j\n",
      "  2.00000000e+00+0.00000000e+00j  2.00000000e+00+0.00000000e+00j\n",
      "  2.00000000e+00+0.00000000e+00j  2.00000000e+00+0.00000000e+00j\n",
      "  2.00000000e+00+0.00000000e+00j  2.00000000e+00+0.00000000e+00j\n",
      "  2.00000000e+00+0.00000000e+00j  2.00000000e+00+0.00000000e+00j\n",
      "  2.00000000e+00+0.00000000e+00j  2.00000000e+00+0.00000000e+00j\n",
      "  2.00000000e+00+0.00000000e+00j  2.00000000e+00+0.00000000e+00j\n",
      "  2.00000000e+00+0.00000000e+00j  2.00000000e+00+0.00000000e+00j\n",
      "  2.00000000e+00+0.00000000e+00j  2.00000000e+00+0.00000000e+00j\n",
      "  2.00000000e+00+0.00000000e+00j  2.00000000e+00+0.00000000e+00j\n",
      "  2.00000000e+00+0.00000000e+00j  2.00000000e+00+0.00000000e+00j\n",
      "  2.00000000e+00+0.00000000e+00j  2.00000000e+00+0.00000000e+00j\n",
      "  2.00000000e+00+0.00000000e+00j  2.00000000e+00+0.00000000e+00j\n",
      "  2.00000000e+00+0.00000000e+00j  2.00000000e+00+0.00000000e+00j\n",
      "  2.00000000e+00+0.00000000e+00j  2.00000000e+00+0.00000000e+00j\n",
      "  2.00000000e+00+0.00000000e+00j  2.00000000e+00-1.54636174e-15j\n",
      "  2.00000000e+00+1.54636174e-15j  2.00000000e+00+0.00000000e+00j\n",
      "  2.00000000e+00+0.00000000e+00j  2.00000000e+00+0.00000000e+00j\n",
      "  2.00000000e+00+0.00000000e+00j  2.00000000e+00+0.00000000e+00j\n",
      "  2.00000000e+00+0.00000000e+00j  2.00000000e+00+0.00000000e+00j\n",
      "  2.00000000e+00+0.00000000e+00j  2.00000000e+00+0.00000000e+00j\n",
      "  2.00000000e+00+0.00000000e+00j  2.00000000e+00+0.00000000e+00j\n",
      "  2.00000000e+00+0.00000000e+00j  2.00000000e+00+0.00000000e+00j\n",
      "  2.00000000e+00+0.00000000e+00j  2.00000000e+00+0.00000000e+00j\n",
      "  2.00000000e+00+0.00000000e+00j  2.00000000e+00+0.00000000e+00j\n",
      "  2.00000000e+00+0.00000000e+00j  2.48269595e+00+0.00000000e+00j\n",
      "  2.60855724e+00+0.00000000e+00j  3.00000000e+00+0.00000000e+00j\n",
      "  3.00000000e+00+0.00000000e+00j  3.00000000e+00+0.00000000e+00j\n",
      "  3.00000000e+00+0.00000000e+00j  3.00000000e+00+0.00000000e+00j\n",
      "  3.00000000e+00+0.00000000e+00j  3.00000000e+00+0.00000000e+00j\n",
      "  3.00000000e+00+0.00000000e+00j  3.00000000e+00+0.00000000e+00j\n",
      "  3.00000000e+00+0.00000000e+00j  3.00000000e+00+0.00000000e+00j\n",
      "  3.00000000e+00+0.00000000e+00j  3.00000000e+00+0.00000000e+00j\n",
      "  3.00000000e+00+0.00000000e+00j  3.00000000e+00+0.00000000e+00j\n",
      "  3.00000000e+00+0.00000000e+00j  3.00000000e+00+0.00000000e+00j\n",
      "  3.00000000e+00+0.00000000e+00j  3.00000000e+00+0.00000000e+00j\n",
      "  3.00000000e+00+0.00000000e+00j  3.00000000e+00+0.00000000e+00j\n",
      "  3.00000000e+00+0.00000000e+00j  3.00000000e+00+0.00000000e+00j\n",
      "  3.00000000e+00+0.00000000e+00j  3.00000000e+00+0.00000000e+00j\n",
      "  3.00000000e+00+0.00000000e+00j  3.00000000e+00+0.00000000e+00j\n",
      "  3.00000000e+00+0.00000000e+00j  3.00000000e+00+0.00000000e+00j\n",
      "  3.00000000e+00+0.00000000e+00j  3.00000000e+00+0.00000000e+00j\n",
      "  3.00000000e+00+0.00000000e+00j  3.00000000e+00+0.00000000e+00j\n",
      "  3.00000000e+00+0.00000000e+00j  3.00000000e+00+0.00000000e+00j\n",
      "  3.00000000e+00+0.00000000e+00j  3.00000000e+00+0.00000000e+00j\n",
      "  3.00000000e+00+0.00000000e+00j  3.00000000e+00+0.00000000e+00j\n",
      "  3.00000000e+00+0.00000000e+00j  4.00000000e+00+0.00000000e+00j\n",
      "  4.00000000e+00+0.00000000e+00j  4.00000000e+00+0.00000000e+00j\n",
      "  4.00000000e+00+0.00000000e+00j  4.00000000e+00+0.00000000e+00j\n",
      "  4.00000000e+00+0.00000000e+00j  4.00000000e+00+0.00000000e+00j\n",
      "  4.00000000e+00+0.00000000e+00j  4.00000000e+00+0.00000000e+00j\n",
      "  4.00000000e+00+0.00000000e+00j  4.00000000e+00+0.00000000e+00j\n",
      "  4.00000000e+00+0.00000000e+00j  4.00000000e+00+0.00000000e+00j\n",
      "  4.00000000e+00+0.00000000e+00j  4.00000000e+00+0.00000000e+00j\n",
      "  4.00000000e+00+0.00000000e+00j  4.00000000e+00+0.00000000e+00j\n",
      "  4.00000000e+00+0.00000000e+00j  4.00000000e+00+0.00000000e+00j\n",
      "  4.00000000e+00+0.00000000e+00j  4.00000000e+00+0.00000000e+00j\n",
      "  4.00000000e+00+0.00000000e+00j  4.00000000e+00+0.00000000e+00j\n",
      "  4.00000000e+00+0.00000000e+00j  4.00000000e+00+0.00000000e+00j\n",
      "  4.00000000e+00+0.00000000e+00j  4.00000000e+00+0.00000000e+00j\n",
      "  4.00000000e+00+0.00000000e+00j  5.00000000e+00+0.00000000e+00j\n",
      "  5.00000000e+00+0.00000000e+00j  5.00000000e+00+0.00000000e+00j\n",
      "  5.00000000e+00+0.00000000e+00j  5.00000000e+00+0.00000000e+00j\n",
      "  5.00000000e+00+0.00000000e+00j  5.00000000e+00+0.00000000e+00j\n",
      "  5.00000000e+00+0.00000000e+00j  5.00000000e+00+0.00000000e+00j\n",
      "  5.00000000e+00+0.00000000e+00j  5.00000000e+00+0.00000000e+00j\n",
      "  5.00000000e+00+0.00000000e+00j  5.00000000e+00+0.00000000e+00j\n",
      "  5.00000000e+00+0.00000000e+00j  5.00000000e+00+0.00000000e+00j\n",
      "  5.00000000e+00+0.00000000e+00j  5.00000000e+00+0.00000000e+00j\n",
      "  5.00000000e+00+0.00000000e+00j  5.00000000e+00+0.00000000e+00j\n",
      "  5.00000000e+00+0.00000000e+00j  5.00000000e+00+0.00000000e+00j\n",
      "  5.00000000e+00+0.00000000e+00j  5.00000000e+00+0.00000000e+00j\n",
      "  5.00000000e+00+0.00000000e+00j  5.00000000e+00+0.00000000e+00j\n",
      "  5.00000000e+00+0.00000000e+00j  5.00000000e+00+0.00000000e+00j\n",
      "  5.00000000e+00+0.00000000e+00j  5.00000000e+00+0.00000000e+00j\n",
      "  5.00000000e+00+0.00000000e+00j  5.00000000e+00+0.00000000e+00j\n",
      "  5.00000000e+00+0.00000000e+00j  5.00000000e+00+0.00000000e+00j\n",
      "  5.00000000e+00+0.00000000e+00j  5.00000000e+00+0.00000000e+00j\n",
      "  5.00000000e+00+0.00000000e+00j  5.00000000e+00+0.00000000e+00j\n",
      "  6.00000000e+00+0.00000000e+00j  6.00000000e+00+0.00000000e+00j\n",
      "  6.00000000e+00+0.00000000e+00j  6.00000000e+00+0.00000000e+00j\n",
      "  6.00000000e+00+0.00000000e+00j  6.00000000e+00+0.00000000e+00j\n",
      "  6.00000000e+00+0.00000000e+00j  6.00000000e+00+0.00000000e+00j\n",
      "  6.00000000e+00+0.00000000e+00j  6.00000000e+00+0.00000000e+00j\n",
      "  6.00000000e+00+0.00000000e+00j  6.00000000e+00+0.00000000e+00j\n",
      "  6.00000000e+00+0.00000000e+00j  6.00000000e+00+0.00000000e+00j\n",
      "  6.00000000e+00+0.00000000e+00j  6.00000000e+00+0.00000000e+00j\n",
      "  6.00000000e+00+0.00000000e+00j  6.00000000e+00+0.00000000e+00j\n",
      "  6.00000000e+00+0.00000000e+00j  6.00000000e+00+0.00000000e+00j\n",
      "  6.05137424e+00+0.00000000e+00j  7.00000000e+00+0.00000000e+00j\n",
      "  7.00000000e+00+0.00000000e+00j  7.00000000e+00+0.00000000e+00j\n",
      "  7.00000000e+00+0.00000000e+00j  7.00000000e+00+0.00000000e+00j\n",
      "  7.00000000e+00+0.00000000e+00j  7.00000000e+00+0.00000000e+00j\n",
      "  7.00000000e+00+0.00000000e+00j  7.00000000e+00+0.00000000e+00j\n",
      "  7.00000000e+00+0.00000000e+00j  7.00000000e+00+0.00000000e+00j\n",
      "  7.00000000e+00+0.00000000e+00j  7.00000000e+00+0.00000000e+00j\n",
      "  7.00000000e+00+0.00000000e+00j  7.00000000e+00+0.00000000e+00j\n",
      "  7.00000000e+00+0.00000000e+00j  7.00000000e+00+0.00000000e+00j\n",
      "  7.00000000e+00+0.00000000e+00j  7.00000000e+00+0.00000000e+00j\n",
      "  7.00000000e+00+0.00000000e+00j  7.00000000e+00+0.00000000e+00j\n",
      "  7.00000000e+00+0.00000000e+00j  7.00000000e+00+0.00000000e+00j\n",
      "  7.00000000e+00+0.00000000e+00j  7.00000000e+00+0.00000000e+00j\n",
      "  7.00000000e+00+0.00000000e+00j  7.00000000e+00+0.00000000e+00j\n",
      "  7.00000000e+00+0.00000000e+00j  7.00000000e+00+0.00000000e+00j\n",
      "  7.00000000e+00+0.00000000e+00j  7.00000000e+00+0.00000000e+00j\n",
      "  7.00000000e+00+0.00000000e+00j  7.00000000e+00+0.00000000e+00j\n",
      "  7.00000000e+00+0.00000000e+00j  8.00000000e+00+0.00000000e+00j\n",
      "  8.00000000e+00+0.00000000e+00j  8.00000000e+00+0.00000000e+00j\n",
      "  8.00000000e+00+0.00000000e+00j  8.00000000e+00+0.00000000e+00j\n",
      "  8.00000000e+00+0.00000000e+00j  8.00000000e+00+0.00000000e+00j\n",
      "  8.00000000e+00+0.00000000e+00j  8.00000000e+00+0.00000000e+00j\n",
      "  8.00000000e+00+0.00000000e+00j  8.00000000e+00+0.00000000e+00j\n",
      "  8.00000000e+00+0.00000000e+00j  8.00000000e+00+0.00000000e+00j\n",
      "  8.00000000e+00+0.00000000e+00j  8.00000000e+00+0.00000000e+00j\n",
      "  8.00000000e+00+0.00000000e+00j  8.00000000e+00+0.00000000e+00j\n",
      "  8.00000000e+00+0.00000000e+00j  8.00000000e+00+0.00000000e+00j\n",
      "  8.00000000e+00+0.00000000e+00j  8.00000000e+00+0.00000000e+00j\n",
      "  8.00000000e+00+0.00000000e+00j  8.00000000e+00+0.00000000e+00j\n",
      "  8.00000000e+00+0.00000000e+00j  8.00000000e+00+0.00000000e+00j\n",
      "  8.00000000e+00+0.00000000e+00j  8.00000000e+00+0.00000000e+00j\n",
      "  8.00000000e+00+0.00000000e+00j  8.00000000e+00+0.00000000e+00j\n",
      "  8.00000000e+00+0.00000000e+00j  8.00000000e+00+0.00000000e+00j\n",
      "  8.00000000e+00+0.00000000e+00j  8.00000000e+00+0.00000000e+00j\n",
      "  8.00000000e+00+0.00000000e+00j  8.00000000e+00+0.00000000e+00j\n",
      "  8.00000000e+00+0.00000000e+00j  9.00000000e+00+0.00000000e+00j\n",
      "  9.00000000e+00+0.00000000e+00j  9.00000000e+00+0.00000000e+00j\n",
      "  9.00000000e+00+0.00000000e+00j  9.00000000e+00+0.00000000e+00j\n",
      "  9.00000000e+00+0.00000000e+00j  9.00000000e+00+0.00000000e+00j\n",
      "  9.00000000e+00+0.00000000e+00j  9.00000000e+00+0.00000000e+00j\n",
      "  9.00000000e+00+0.00000000e+00j  9.00000000e+00+0.00000000e+00j\n",
      "  9.00000000e+00+0.00000000e+00j  9.00000000e+00+0.00000000e+00j\n",
      "  9.00000000e+00+0.00000000e+00j  9.00000000e+00+0.00000000e+00j\n",
      "  9.00000000e+00+0.00000000e+00j  1.00000000e+01+0.00000000e+00j\n",
      "  1.00000000e+01+0.00000000e+00j  1.00000000e+01+0.00000000e+00j\n",
      "  1.00000000e+01+0.00000000e+00j  1.00000000e+01+0.00000000e+00j\n",
      "  1.00000000e+01+0.00000000e+00j  1.00000000e+01+0.00000000e+00j\n",
      "  1.00000000e+01+0.00000000e+00j  1.00000000e+01+0.00000000e+00j\n",
      "  1.00000000e+01+0.00000000e+00j  1.00000000e+01+0.00000000e+00j\n",
      "  1.00000000e+01+0.00000000e+00j  1.00000000e+01+0.00000000e+00j\n",
      "  1.00000000e+01+0.00000000e+00j  1.00000000e+01+0.00000000e+00j\n",
      "  1.00000000e+01+0.00000000e+00j  1.00000000e+01+0.00000000e+00j\n",
      "  1.00000000e+01+0.00000000e+00j  1.00000000e+01+0.00000000e+00j\n",
      "  1.00000000e+01+0.00000000e+00j  1.00000000e+01+0.00000000e+00j\n",
      "  1.00000000e+01+0.00000000e+00j  1.00000000e+01+0.00000000e+00j\n",
      "  1.00000000e+01+0.00000000e+00j  1.00000000e+01+0.00000000e+00j\n",
      "  1.00000000e+01+0.00000000e+00j  1.00000000e+01+0.00000000e+00j\n",
      "  1.00000000e+01+0.00000000e+00j  1.00000000e+01+0.00000000e+00j\n",
      "  1.00000000e+01+0.00000000e+00j  1.00000000e+01+0.00000000e+00j\n",
      "  1.00000000e+01+0.00000000e+00j  1.00000000e+01+0.00000000e+00j\n",
      "  1.00000000e+01+0.00000000e+00j  1.20000000e+01+0.00000000e+00j\n",
      "  1.30000000e+01+0.00000000e+00j  1.30000000e+01+0.00000000e+00j\n",
      "  1.30000000e+01+0.00000000e+00j  1.30000000e+01+0.00000000e+00j\n",
      "  1.30000000e+01+0.00000000e+00j  1.30000000e+01+0.00000000e+00j\n",
      "  1.30000000e+01+0.00000000e+00j  1.30000000e+01+0.00000000e+00j\n",
      "  1.30000000e+01+0.00000000e+00j  1.30000000e+01+0.00000000e+00j\n",
      "  1.30000000e+01+0.00000000e+00j  1.30000000e+01+0.00000000e+00j\n",
      "  1.30000000e+01+0.00000000e+00j  1.30000000e+01+0.00000000e+00j\n",
      "  1.30000000e+01+0.00000000e+00j  1.30000000e+01+0.00000000e+00j\n",
      "  1.30000000e+01+0.00000000e+00j  1.30000000e+01+0.00000000e+00j\n",
      "  1.30000000e+01+0.00000000e+00j  1.30000000e+01+0.00000000e+00j\n",
      "  1.30000000e+01+0.00000000e+00j  1.30000000e+01+0.00000000e+00j\n",
      "  1.30000000e+01+0.00000000e+00j  1.30000000e+01+0.00000000e+00j\n",
      "  1.30000000e+01+0.00000000e+00j  1.30000000e+01+0.00000000e+00j\n",
      "  1.30000000e+01+0.00000000e+00j  1.30000000e+01+0.00000000e+00j\n",
      "  1.30000000e+01+0.00000000e+00j  1.30000000e+01+0.00000000e+00j\n",
      "  1.30000000e+01+0.00000000e+00j  1.30000000e+01+0.00000000e+00j\n",
      "  1.30000000e+01+0.00000000e+00j  1.30000000e+01+0.00000000e+00j\n",
      "  1.30000000e+01+0.00000000e+00j  1.30000000e+01+0.00000000e+00j\n",
      "  1.50000000e+01+0.00000000e+00j  1.50000000e+01+0.00000000e+00j\n",
      "  1.50000000e+01+0.00000000e+00j  1.50000000e+01+0.00000000e+00j\n",
      "  1.50000000e+01+0.00000000e+00j  1.50000000e+01+0.00000000e+00j\n",
      "  1.50000000e+01+0.00000000e+00j  1.50000000e+01+0.00000000e+00j\n",
      "  1.50000000e+01+0.00000000e+00j  1.50000000e+01+0.00000000e+00j\n",
      "  1.50000000e+01+0.00000000e+00j  1.50000000e+01+0.00000000e+00j\n",
      "  1.50000000e+01+0.00000000e+00j  1.50000000e+01+0.00000000e+00j\n",
      "  1.60000000e+01+0.00000000e+00j  1.70000000e+01+0.00000000e+00j\n",
      "  1.70000000e+01+0.00000000e+00j  1.70000000e+01+0.00000000e+00j\n",
      "  1.70000000e+01+0.00000000e+00j  1.70000000e+01+0.00000000e+00j\n",
      "  1.70000000e+01+0.00000000e+00j  1.70000000e+01+0.00000000e+00j\n",
      "  1.70000000e+01+0.00000000e+00j  1.70000000e+01+0.00000000e+00j\n",
      "  1.70000000e+01+0.00000000e+00j  1.70000000e+01+0.00000000e+00j\n",
      "  1.70000000e+01+0.00000000e+00j  1.70000000e+01+0.00000000e+00j\n",
      "  1.70000000e+01+0.00000000e+00j  1.70000000e+01+0.00000000e+00j\n",
      "  1.70000000e+01+0.00000000e+00j  1.80000000e+01+0.00000000e+00j\n",
      "  1.80000000e+01+0.00000000e+00j  1.80000000e+01+0.00000000e+00j\n",
      "  1.80000000e+01+0.00000000e+00j  1.80000000e+01+0.00000000e+00j\n",
      "  1.80000000e+01+0.00000000e+00j  1.80000000e+01+0.00000000e+00j\n",
      "  1.80000000e+01+0.00000000e+00j  1.80000000e+01+0.00000000e+00j\n",
      "  1.80000000e+01+0.00000000e+00j  1.80000000e+01+0.00000000e+00j\n",
      "  1.80000000e+01+0.00000000e+00j  1.80000000e+01+0.00000000e+00j\n",
      "  1.80000000e+01+0.00000000e+00j  1.80000000e+01+0.00000000e+00j\n",
      "  1.80000000e+01+0.00000000e+00j  1.90000000e+01+0.00000000e+00j\n",
      "  1.90000000e+01+0.00000000e+00j  1.90000000e+01+0.00000000e+00j\n",
      "  1.90000000e+01+0.00000000e+00j  1.90000000e+01+0.00000000e+00j\n",
      "  1.90000000e+01+0.00000000e+00j  1.90000000e+01+0.00000000e+00j\n",
      "  1.90000000e+01+0.00000000e+00j  1.90000000e+01+0.00000000e+00j\n",
      "  1.90000000e+01+0.00000000e+00j  1.90000000e+01+0.00000000e+00j\n",
      "  1.90000000e+01+0.00000000e+00j  1.90000000e+01+0.00000000e+00j\n",
      "  1.90000000e+01+0.00000000e+00j  1.90000000e+01+0.00000000e+00j\n",
      "  1.90000000e+01+0.00000000e+00j  1.90000000e+01+0.00000000e+00j\n",
      "  1.90000000e+01+0.00000000e+00j  1.90000000e+01+0.00000000e+00j\n",
      "  2.60000000e+01+0.00000000e+00j  2.60000000e+01+0.00000000e+00j\n",
      "  2.60000000e+01+0.00000000e+00j  2.60000000e+01+0.00000000e+00j\n",
      "  2.60000000e+01+0.00000000e+00j  2.60000000e+01+0.00000000e+00j\n",
      "  2.60000000e+01+0.00000000e+00j  2.60000000e+01+0.00000000e+00j\n",
      "  2.60000000e+01+0.00000000e+00j  2.60000000e+01+0.00000000e+00j\n",
      "  2.60000000e+01+0.00000000e+00j  2.60000000e+01+0.00000000e+00j\n",
      "  2.60000000e+01+0.00000000e+00j  2.60000000e+01+0.00000000e+00j\n",
      "  2.60000000e+01+0.00000000e+00j  2.60000000e+01+0.00000000e+00j\n",
      "  2.60000000e+01+0.00000000e+00j  2.60000000e+01+0.00000000e+00j\n",
      "  2.60000000e+01+0.00000000e+00j  2.60000000e+01+0.00000000e+00j\n",
      "  2.60000000e+01+0.00000000e+00j  2.60000000e+01+0.00000000e+00j\n",
      "  2.60000000e+01+0.00000000e+00j  2.60000000e+01+0.00000000e+00j\n",
      "  2.90000000e+01+0.00000000e+00j  4.90000000e+01+0.00000000e+00j\n",
      "  4.90000000e+01+0.00000000e+00j  4.90000000e+01+0.00000000e+00j\n",
      "  4.90000000e+01+0.00000000e+00j  4.90000000e+01+0.00000000e+00j\n",
      "  4.90000000e+01+0.00000000e+00j  4.90000000e+01+0.00000000e+00j\n",
      "  4.90000000e+01+0.00000000e+00j  4.90000000e+01+0.00000000e+00j\n",
      "  4.90000000e+01+0.00000000e+00j  4.90000000e+01+0.00000000e+00j\n",
      "  4.90000000e+01+0.00000000e+00j  4.90000000e+01+0.00000000e+00j\n",
      "  4.90000000e+01+0.00000000e+00j  4.90000000e+01+0.00000000e+00j\n",
      "  4.90000000e+01+0.00000000e+00j  4.90000000e+01+0.00000000e+00j\n",
      "  4.90000000e+01+0.00000000e+00j  4.90000000e+01+0.00000000e+00j\n",
      "  4.90000000e+01+0.00000000e+00j  4.90000000e+01+0.00000000e+00j\n",
      "  4.90000000e+01+0.00000000e+00j  4.90000000e+01+0.00000000e+00j\n",
      "  4.90000000e+01+0.00000000e+00j  4.90000000e+01+0.00000000e+00j\n",
      "  4.90000000e+01+0.00000000e+00j  4.90000000e+01+0.00000000e+00j\n",
      "  4.90000000e+01-2.00971835e-14j  4.90000000e+01+2.00971835e-14j\n",
      "  4.90000000e+01+0.00000000e+00j  4.90000000e+01+0.00000000e+00j\n",
      "  4.90000000e+01+0.00000000e+00j  4.90000000e+01+0.00000000e+00j\n",
      "  4.90000000e+01+0.00000000e+00j  4.90000000e+01+0.00000000e+00j\n",
      "  4.90000000e+01+0.00000000e+00j  4.90000000e+01+0.00000000e+00j\n",
      "  4.90000000e+01+0.00000000e+00j  4.90000000e+01+0.00000000e+00j\n",
      "  4.90000000e+01+0.00000000e+00j  4.90000000e+01+0.00000000e+00j\n",
      "  4.90000000e+01+0.00000000e+00j  4.90000000e+01+0.00000000e+00j\n",
      "  4.90000000e+01+0.00000000e+00j  4.90000000e+01+0.00000000e+00j\n",
      "  4.90000000e+01+0.00000000e+00j  4.90000000e+01+0.00000000e+00j\n",
      "  5.00004253e+01+0.00000000e+00j]\n",
      "(645, 645)\n"
     ]
    }
   ],
   "source": [
    "A = laplacian_combinatorial\n",
    "\n",
    "\n",
    "# calculate eigendecomposition\n",
    "values, vectors = np.linalg.eig(A)\n",
    "\n",
    "\n",
    "#Order eigenvalues\n",
    "values.sort()\n",
    "\n",
    "eigenvectors = vectors # Your code here.\n",
    "eigenvalues = values # Your code here.\n",
    "\n",
    "print('eignevectors: ',eigenvectors)\n",
    "print('eigenvalues: ',eigenvalues)\n",
    "\n",
    "print(eigenvectors.shape)\n",
    "#assert eigenvectors.shape == (n_nodes, n_nodes)"
   ]
  },
  {
   "cell_type": "code",
   "execution_count": 22,
   "metadata": {},
   "outputs": [
    {
     "name": "stdout",
     "output_type": "stream",
     "text": [
      "(-1.0278593494129045e-15+0j)\n"
     ]
    }
   ],
   "source": [
    "print(min(eigenvalues))"
   ]
  },
  {
   "cell_type": "code",
   "execution_count": 39,
   "metadata": {},
   "outputs": [
    {
     "name": "stdout",
     "output_type": "stream",
     "text": [
      "vals:  [ 1.61168440e+01+0.j -1.11684397e+00+0.j -9.75918483e-16+0.j]\n",
      "vecs:  [[-0.23197069 -0.78583024  0.40824829]\n",
      " [-0.52532209 -0.08675134 -0.81649658]\n",
      " [-0.8186735   0.61232756  0.40824829]]\n"
     ]
    }
   ],
   "source": [
    "# if we have an hermitian matrix: Une matrice hermitienne (ou auto-adjointe) est une matrice carrée avec des éléments complexes qui vérifie la propriété suivante : \n",
    "#la matrice est égale à la matrice transconjuguée (matrice transposée de la matrice conjuguée, ou matrice adjointe). \n",
    " \n",
    " \n",
    "\n",
    "vals, vecs = sparse.linalg.eigs(A, k=3)\n",
    "print('vals: ', vals)\n",
    "print('vecs: ', vecs)\n"
   ]
  },
  {
   "cell_type": "markdown",
   "metadata": {},
   "source": [
    "Justify your choice of eigensolver."
   ]
  },
  {
   "cell_type": "markdown",
   "metadata": {},
   "source": [
    "**Your answer here.**\n",
    "'''\n",
    "Dépend de notre matrice L si elle est réelle np suddit je pense. mais avec sparse on peut choisir le nomvre de vect. propre désiré\n",
    "'''"
   ]
  },
  {
   "cell_type": "markdown",
   "metadata": {},
   "source": [
    "### Question 3\n",
    "\n",
    "We can write $L = S S^\\top$. What is the matrix $S$? What does $S^\\top x$, with $x \\in \\mathbb{R}^N$, compute?"
   ]
  },
  {
   "cell_type": "markdown",
   "metadata": {},
   "source": [
    "**Your answer here.**\n",
    "'''\n",
    "S is the incidence matrix\n",
    "'''"
   ]
  },
  {
   "cell_type": "markdown",
   "metadata": {},
   "source": [
    "### Question 4\n",
    "\n",
    "Show that $\\lambda_k = \\| S^\\top u_k \\|_2^2$, where $\\| \\cdot \\|_2^2$ denotes the squared Euclidean norm (a.k.a. squared $L^2$ norm)."
   ]
  },
  {
   "cell_type": "markdown",
   "metadata": {},
   "source": [
    "**Your answer here.**"
   ]
  },
  {
   "cell_type": "markdown",
   "metadata": {},
   "source": [
    "What does the quantity $\\| S^\\top x \\|_2^2$ tell us about $x$?"
   ]
  },
  {
   "cell_type": "markdown",
   "metadata": {},
   "source": [
    "**Your answer here.**"
   ]
  },
  {
   "cell_type": "markdown",
   "metadata": {},
   "source": [
    "### Question 5\n",
    "\n",
    "What is the value of $u_0$, both for the combinatorial and normalized Laplacians?"
   ]
  },
  {
   "cell_type": "markdown",
   "metadata": {},
   "source": [
    "**Your annswer here.**"
   ]
  },
  {
   "cell_type": "markdown",
   "metadata": {},
   "source": [
    "### Question 6\n",
    "\n",
    "Look at the spectrum of the Laplacian by plotting the eigenvalues.\n",
    "Comment on what you observe."
   ]
  },
  {
   "cell_type": "code",
   "execution_count": 55,
   "metadata": {},
   "outputs": [
    {
     "name": "stdout",
     "output_type": "stream",
     "text": [
      "645\n"
     ]
    }
   ],
   "source": [
    "# Your code here.\n",
    "print(len(eigenvalues))"
   ]
  },
  {
   "cell_type": "code",
   "execution_count": 61,
   "metadata": {},
   "outputs": [
    {
     "name": "stdout",
     "output_type": "stream",
     "text": [
      "(2.00000000000001+0j)\n"
     ]
    }
   ],
   "source": [
    "print(eigenvalues[640])"
   ]
  },
  {
   "cell_type": "code",
   "execution_count": 64,
   "metadata": {},
   "outputs": [
    {
     "data": {
      "image/png": "[encoded data removed]",
      "text/plain": [
       "<Figure size 1800x360 with 1 Axes>"
      ]
     },
     "metadata": {
      "needs_background": "light"
     },
     "output_type": "display_data"
    }
   ],
   "source": [
    "plt.figure(figsize=(25, 5))\n",
    "for i in range(0, len(eigenvalues)):\n",
    "    plt.bar(i,eigenvalues[i], width=0.5)\n",
    "plt.show()"
   ]
  },
  {
   "cell_type": "code",
   "execution_count": null,
   "metadata": {},
   "outputs": [],
   "source": [
    "plt.figure(figsize=(25, 5))\n",
    "for i in range(0, len(eigenvalues)):\n",
    "    plt.bar(i,eigenvalues[i], width=0.5)\n",
    "plt.show()"
   ]
  },
  {
   "cell_type": "markdown",
   "metadata": {},
   "source": [
    "**Your answer here.**"
   ]
  },
  {
   "cell_type": "markdown",
   "metadata": {},
   "source": [
    "How many connected components are there in your graph? Answer using the eigenvalues only."
   ]
  },
  {
   "cell_type": "code",
   "execution_count": null,
   "metadata": {},
   "outputs": [],
   "source": [
    "# Your code here."
   ]
  },
  {
   "cell_type": "markdown",
   "metadata": {},
   "source": [
    "Is there an upper bound on the eigenvalues, i.e., what is the largest possible eigenvalue? Answer for both the combinatorial and normalized Laplacians."
   ]
  },
  {
   "cell_type": "markdown",
   "metadata": {},
   "source": [
    "**Your answer here.**"
   ]
  },
  {
   "cell_type": "markdown",
   "metadata": {},
   "source": [
    "## 3 Laplacian eigenmaps\n",
    "\n",
    "*Laplacian eigenmaps* is a method to embed a graph $\\mathcal{G}$ in a $d$-dimensional Euclidean space.\n",
    "That is, it associates a vector $z_i \\in \\mathbb{R}^d$ to every node $v_i \\in \\mathcal{V}$.\n",
    "The graph $\\mathcal{G}$ is thus embedded as $Z \\in \\mathbb{R}^{N \\times d}$."
   ]
  },
  {
   "cell_type": "markdown",
   "metadata": {},
   "source": [
    "### Question 7\n",
    "\n",
    "What do we use Laplacian eigenmaps for? (Or more generally, graph embeddings.)"
   ]
  },
  {
   "cell_type": "markdown",
   "metadata": {},
   "source": [
    "**Your answer here.**\n",
    "'''\n",
    "Laplacian eigenmaps are used for nonlinear dimensionality reduction. \n",
    "Traditional techniques like PCA don't consider the intrinsic geometry of the data.\n",
    "So Laplacian eigenmaps builds a graph from neighborhood information of the data set. Each data point serves as a node on the graph and connectivity between nodes is governed by the proximity of neighboring points (using e.g. the k-nearest neighbor algorithm). The graph thus generated can be considered as a discrete approximation of the low-dimensional manifold in the high-dimensional space.\n",
    "'''"
   ]
  },
  {
   "cell_type": "markdown",
   "metadata": {},
   "source": [
    "### Question 8\n",
    "\n",
    "Embed your graph in $d=2$ dimensions with Laplacian eigenmaps.\n",
    "Try with and without re-normalizing the eigenvectors by the degrees, then keep the one your prefer.\n",
    "\n",
    "**Recompute** the eigenvectors you need with a partial eigendecomposition method for sparse matrices.\n",
    "When $k \\ll N$ eigenvectors are needed, partial eigendecompositions are much more efficient than complete eigendecompositions.\n",
    "A partial eigendecomposition scales as $\\Omega(k |\\mathcal{E}|$), while a complete eigendecomposition costs $\\mathcal{O}(N^3)$ operations."
   ]
  },
  {
   "cell_type": "code",
   "execution_count": null,
   "metadata": {},
   "outputs": [],
   "source": [
    "# Your code here."
   ]
  },
  {
   "cell_type": "markdown",
   "metadata": {},
   "source": [
    "Plot the nodes embedded in 2D. Comment on what you see."
   ]
  },
  {
   "cell_type": "code",
   "execution_count": null,
   "metadata": {},
   "outputs": [],
   "source": [
    "# Your code here."
   ]
  },
  {
   "cell_type": "markdown",
   "metadata": {},
   "source": [
    "**Your answer here.**"
   ]
  },
  {
   "cell_type": "markdown",
   "metadata": {},
   "source": [
    "### Question 9"
   ]
  },
  {
   "cell_type": "markdown",
   "metadata": {},
   "source": [
    "What does the embedding $Z \\in \\mathbb{R}^{N \\times d}$ preserve?"
   ]
  },
  {
   "cell_type": "markdown",
   "metadata": {},
   "source": [
    "**Your answer here.**"
   ]
  },
  {
   "cell_type": "markdown",
   "metadata": {},
   "source": [
    "## 2 Spectral clustering\n",
    "\n",
    "*Spectral clustering* is a method to partition a graph into distinct clusters.\n",
    "The method associates a feature vector $z_i \\in \\mathbb{R}^d$ to every node $v_i \\in \\mathcal{V}$, then runs [$k$-means](https://en.wikipedia.org/wiki/K-means_clustering) in the embedding space $\\mathbb{R}^d$ to assign each node $v_i \\in \\mathcal{V}$ to a cluster $c_j \\in \\mathcal{C}$, where $k = |\\mathcal{C}|$ is the number of desired clusters."
   ]
  },
  {
   "cell_type": "markdown",
   "metadata": {},
   "source": [
    "### Question 10\n",
    "\n",
    "Choose $k$ and $d$. How did you get to those numbers?"
   ]
  },
  {
   "cell_type": "markdown",
   "metadata": {},
   "source": [
    "**Your answer here.**"
   ]
  },
  {
   "cell_type": "markdown",
   "metadata": {},
   "source": [
    "### Question 11\n",
    "\n",
    "1. Embed your graph in $\\mathbb{R}^d$ as $Z \\in \\mathbb{R}^{N \\times d}$.\n",
    "   Try with and without re-normalizing the eigenvectors by the degrees, then keep the one your prefer.\n",
    "1. If you want $k=2$ clusters, partition with the Fiedler vector. For $k > 2$ clusters, run $k$-means on $Z$. Don't implement $k$-means, use the `KMeans` class imported from scikit-learn."
   ]
  },
  {
   "cell_type": "code",
   "execution_count": null,
   "metadata": {},
   "outputs": [],
   "source": [
    "# Your code here."
   ]
  },
  {
   "cell_type": "markdown",
   "metadata": {},
   "source": [
    "### Question 12\n",
    "\n",
    "Use the computed cluster assignment to reorder the adjacency matrix $A$.\n",
    "What do you expect? What do you observe?"
   ]
  },
  {
   "cell_type": "code",
   "execution_count": null,
   "metadata": {},
   "outputs": [],
   "source": [
    "# Your code here."
   ]
  },
  {
   "cell_type": "markdown",
   "metadata": {},
   "source": [
    "**Your answer here.**"
   ]
  },
  {
   "cell_type": "markdown",
   "metadata": {},
   "source": [
    "### Question 13\n",
    "\n",
    "If you have ground truth clusters for your dataset, compare the cluster assignment from spectral clustering to the ground truth.\n",
    "A simple quantitative measure is to compute the percentage of nodes that have been correctly categorized.\n",
    "If you don't have a ground truth, qualitatively assess the quality of the clustering.\n",
    "\n",
    "Ground truth clusters are the \"real clusters\".\n",
    "For example, the genre of musical tracks in FMA, the category of Wikipedia articles, the spammer status of individuals, etc.\n",
    "Look for the `labels` in the [dataset descriptions](https://github.com/mdeff/ntds_2018/tree/master/projects/README.md)."
   ]
  },
  {
   "cell_type": "code",
   "execution_count": null,
   "metadata": {},
   "outputs": [],
   "source": [
    "# Your code here."
   ]
  },
  {
   "cell_type": "markdown",
   "metadata": {},
   "source": [
    "### Question 14\n",
    "\n",
    "Plot the cluster assignment (one color per cluster) on the 2D embedding you computed above with Laplacian eigenmaps."
   ]
  },
  {
   "cell_type": "code",
   "execution_count": null,
   "metadata": {},
   "outputs": [],
   "source": [
    "# Your code here."
   ]
  },
  {
   "cell_type": "markdown",
   "metadata": {},
   "source": [
    "### Question 15\n",
    "\n",
    "Why did we use the eigenvectors of the graph Laplacian as features? Could we use other features for clustering?"
   ]
  },
  {
   "cell_type": "markdown",
   "metadata": {},
   "source": [
    "**Your answer here.**"
   ]
  }
 ],
 "metadata": {
  "kernelspec": {
   "display_name": "Python 3",
   "language": "python",
   "name": "python3"
  },
  "language_info": {
   "codemirror_mode": {
    "name": "ipython",
    "version": 3
   },
   "file_extension": ".py",
   "mimetype": "text/x-python",
   "name": "python",
   "nbconvert_exporter": "python",
   "pygments_lexer": "ipython3",
   "version": "3.6.6"
  }
 },
 "nbformat": 4,
 "nbformat_minor": 2
}
